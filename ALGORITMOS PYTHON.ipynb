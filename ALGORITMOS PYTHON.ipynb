{
 "cells": [
  {
   "cell_type": "markdown",
   "id": "7ed22f74",
   "metadata": {},
   "source": [
    "# ALGORITMOS\n",
    "\n",
    "* **Developer**: Alexander Valdez Portocarrero\n",
    "* Ingeniero Electronico - **UNI**\n",
    "\n",
    "***\n"
   ]
  },
  {
   "cell_type": "markdown",
   "id": "6619e3c5",
   "metadata": {},
   "source": [
    "**PSEUDOCODIGO**: Es la forma de escribir los pasos que va a realizar un programa(Instruccion) de la forma mas cercana al lenguaje de programacion que vamos a utilizar posteriomente."
   ]
  },
  {
   "cell_type": "markdown",
   "id": "3f8927d0",
   "metadata": {},
   "source": [
    "## OBSERVACION"
   ]
  },
  {
   "cell_type": "markdown",
   "id": "7fe0a47a",
   "metadata": {},
   "source": [
    "Casos en los que vale la pena hacer un analisis mas produndo de la eficiencia de nuestro algoritmo para hacer lo mas eficiente posible:\n",
    "* Cuanto tenemos cantidades muy grandes de informacion y esto es especialmente importante cuando hay bucles ya que una pequeña difrencia de 5milisegundos en una sola operacion no significa gran cosa, pero iterar eso a 1 millo de registros, supondria mas  de 1 hora con 23 minutos adicionales\n",
    "* Cuando trabajamos con sistemas de tiempo real.\n",
    "* Por las entrevistas técnicas"
   ]
  },
  {
   "cell_type": "markdown",
   "id": "1672215f",
   "metadata": {},
   "source": [
    "## TIME COMPLEXITY- complejidad de tiempo\n",
    "Cantidad de tiempo que dura la ejecucion de un algortimo y esta estimada en terminos de la cantidad de operaciones elementales que se ejecutaron en total."
   ]
  },
  {
   "cell_type": "markdown",
   "id": "62ce7da1",
   "metadata": {},
   "source": [
    "## SPACE COMPLEXITY\n",
    "Podemos utilizar Big O para analizar el space complexity que representa la cantidad de memoria adicional que necesitamos asiganar para poder ejecutar el codigo de nuestro algoritmo.\n",
    "En algunas ocasiones puedes haber esuchado acerca de auxiliar space complexitt que se refiere al espacio requerido por el algoritmo, sin incluir el espacio requerido por los inputs."
   ]
  },
  {
   "cell_type": "markdown",
   "id": "20debc1c",
   "metadata": {},
   "source": [
    "[Link reference](https://www.freecodecamp.org/news/big-o-cheat-sheet-time-complexity-chart/)"
   ]
  },
  {
   "cell_type": "markdown",
   "id": "b765bff7",
   "metadata": {},
   "source": [
    "## I) ALGORITMOS DE ORDENAMIENTO- SORTING"
   ]
  },
  {
   "cell_type": "markdown",
   "id": "f70e2838",
   "metadata": {},
   "source": [
    "### 1. Insertion Sort"
   ]
  },
  {
   "cell_type": "markdown",
   "id": "2eea2d7d",
   "metadata": {},
   "source": [
    "Consiste en el recorrido por la lista seleccionando en cada iteracion un valor como clave y compararlo con el resto insertandolo en el lugar correspondiente."
   ]
  },
  {
   "cell_type": "markdown",
   "id": "49f70c32",
   "metadata": {},
   "source": [
    "A = [1 2 3 ... n]\\\n",
    "**INSERTION-SORT(A)**\n",
    "\n",
    "\n",
    "for j<-2 to length[A] \n",
    "\n",
    "    do key<- A[j] \n",
    "     Inset A[j]into the sorted sequence A[1 .. j-1]\n",
    "     i<- j-1\n",
    "    while i>0 and A[i]>key\n",
    "        do A[i+1] <- A[i]\n",
    "            i <- i -1\n",
    "    A[i+1]<-key"
   ]
  },
  {
   "cell_type": "code",
   "execution_count": 18,
   "id": "863f978c",
   "metadata": {},
   "outputs": [
    {
     "name": "stdout",
     "output_type": "stream",
     "text": [
      "CASE 0\n",
      "CASE 1\n",
      "case: 1 5 7\n",
      "CASE 2\n",
      "case: 2 7 4\n",
      "case: 2 5 4\n",
      "CASE 3\n",
      "case: 3 7 3\n",
      "case: 3 5 3\n",
      "case: 3 4 3\n",
      "CASE 4\n",
      "case: 4 7 0\n",
      "case: 4 5 0\n",
      "case: 4 4 0\n",
      "case: 4 3 0\n",
      "CASE 5\n",
      "case: 5 7 9\n",
      "case: 5 5 7\n",
      "case: 5 4 5\n",
      "case: 5 3 4\n",
      "case: 5 0 3\n",
      "[0, 3, 4, 5, 7, 9]\n"
     ]
    }
   ],
   "source": [
    "A= [5,7,4,3,0,9]\n",
    "for i in range(len(A)):\n",
    "   print(\"CASE\",i)\n",
    "   for j in range(i,0,-1):\n",
    "      print(\"case:\",i,A[j-1],A[j])\n",
    "      if (A[j-1]>A[j]):\n",
    "          aux    = A[j]\n",
    "          A[j]   = A[j-1]\n",
    "          A[j-1] = aux\n",
    "print(A)"
   ]
  },
  {
   "cell_type": "markdown",
   "id": "1eb5c649",
   "metadata": {},
   "source": [
    "**2. SELECTION SORT**"
   ]
  },
  {
   "cell_type": "markdown",
   "id": "f5004dfc",
   "metadata": {},
   "source": [
    "El orden de seleccion es similar al orden de insercion con una ligera diferencia. Este algoritmo tambien divide la matriz en subpartes ordenadas y no ordenadas. Y luego, en cada iteracion, tomaremos el elemento minimos de la subparte sin clasificar y coloquelo en la ultima posicion del subparte ordenada.\n"
   ]
  },
  {
   "cell_type": "markdown",
   "id": "69d421f9",
   "metadata": {},
   "source": [
    "Algoritmo\n",
    "\n",
    "**Step 1:** Set Min to location 0.\\\n",
    "**Step 2:** Search the minimum element in the list.\\\n",
    "**Step 3:** Swap with the value at location MIN.\\\n",
    "**Step 4:** Increment MIN to point to next element.\\\n",
    "**Step 5:** Repeat ulti list is sorted."
   ]
  },
  {
   "cell_type": "code",
   "execution_count": 35,
   "id": "cfacfd36",
   "metadata": {},
   "outputs": [],
   "source": [
    "A = [9,8,4,6,7,1,2,0,5]"
   ]
  },
  {
   "cell_type": "markdown",
   "id": "a0063bfb",
   "metadata": {},
   "source": [
    "for j in range(1,length):\n",
    "    if A[0]>A[j]:\n",
    "        A[0], A[j]= A[j],A[0]\n",
    "    print(A)"
   ]
  },
  {
   "cell_type": "code",
   "execution_count": 36,
   "id": "bb431758",
   "metadata": {},
   "outputs": [
    {
     "data": {
      "text/plain": [
       "[9, 8, 4, 6, 7, 1, 2, 0, 5]"
      ]
     },
     "execution_count": 36,
     "metadata": {},
     "output_type": "execute_result"
    }
   ],
   "source": [
    "A"
   ]
  },
  {
   "cell_type": "markdown",
   "id": "e926e1e5",
   "metadata": {},
   "source": [
    "ALGORITMO"
   ]
  },
  {
   "cell_type": "code",
   "execution_count": 37,
   "id": "f6f7145f",
   "metadata": {},
   "outputs": [],
   "source": [
    "length = len(A)\n",
    "for i in range(length-1):\n",
    "    for j in range(i+1,length):\n",
    "        if A[i]>A[j]:\n",
    "            A[i], A[j]= A[j],A[i]\n",
    "    "
   ]
  },
  {
   "cell_type": "code",
   "execution_count": 38,
   "id": "db5c0392",
   "metadata": {},
   "outputs": [
    {
     "data": {
      "text/plain": [
       "[0, 1, 2, 4, 5, 6, 7, 8, 9]"
      ]
     },
     "execution_count": 38,
     "metadata": {},
     "output_type": "execute_result"
    }
   ],
   "source": [
    "A\n"
   ]
  },
  {
   "cell_type": "markdown",
   "id": "8a4f04a8",
   "metadata": {},
   "source": [
    "## 3. MERGE SORTE ##"
   ]
  },
  {
   "cell_type": "markdown",
   "id": "44d43505",
   "metadata": {},
   "source": [
    "El algoritmo de ordenamiento por mezcla es un algoritmo de ordenamiento externo estable basado enla tecnica divide y venceras.\n",
    "La idea de los algoritmos de ordenacion por mezcla es dividir la matriz por la mitad una y ptra vez hasta que cada pieza tenga solo un elemento de longitud. Luego esos elementos se vuelven ajuntar(mezclados) en orden de clasificacion."
   ]
  },
  {
   "cell_type": "markdown",
   "id": "89044f26",
   "metadata": {},
   "source": [
    "**funcion mergesort(m)**\n",
    "\n",
    "\n",
    "    var list left.right, result\n",
    "    if length(m)<=1\n",
    "        return m\n",
    "     else:\n",
    "        middle = length(m)/2\n",
    "        for each  x in m up to middle-1\n",
    "             add x to left\n",
    "        for each x in m from middle to m\n",
    "             add x to right\n",
    "         left= mergesort(left)\n",
    "         right=mergesort(right)\n",
    "         if last(left)<= first(right)\n",
    "             append right to left\n",
    "             return left\n",
    "          result= merge(left,right)\n",
    "          return result"
   ]
  },
  {
   "cell_type": "markdown",
   "id": "57019279-eb4b-4c6e-a4e1-d00ea15534d6",
   "metadata": {},
   "source": [
    "**function merge(left,right)**\n",
    "\n",
    "    var list result\n",
    "    while length(left)>0 and length(right)>0\n",
    "          if first(left)<= first(right)\n",
    "              append first(left) to result\n",
    "              left    = rest(left)\n",
    "          else\n",
    "             append first(right) to result\n",
    "             right  = rest(right)\n",
    "    if length(left)>0\n",
    "       append rest(left) to result\n",
    "    if length(right)>0\n",
    "       append rest(right) to result\n",
    "    return result"
   ]
  },
  {
   "cell_type": "code",
   "execution_count": 5,
   "id": "b8e1a495",
   "metadata": {},
   "outputs": [],
   "source": [
    "A = [9,8,4,6,10,11,20,19,18,17]\n",
    "\n",
    "def mergesort(A):\n",
    "    #print(A)\n",
    "    if len(A)<=1:\n",
    "        return A\n",
    "    else:\n",
    "        middle =int(len(A)/2)\n",
    "        left   = mergesort(A[:middle])\n",
    "        right  = mergesort(A[middle:])\n",
    "        return merge(left,right)\n",
    "def merge(list1,list2):\n",
    "    i,j    = 0,0 #variables de incremento\n",
    "    result = []\n",
    "    #intercalar ordenadamente\n",
    "    while(i<len(list1) and j<len(list2)):\n",
    "        if(list1[i]<list2[j]):\n",
    "            result.append(list1[i])\n",
    "            i+=1\n",
    "        else:\n",
    "            result.append(list2[j])\n",
    "            j+=1\n",
    "    while(i<len(list1)):\n",
    "        result.append(list1[i])\n",
    "        i=i+1\n",
    "    while(j<len(list2)):\n",
    "        result.append(list2[j])\n",
    "        j=j+1\n",
    "    return result"
   ]
  },
  {
   "cell_type": "code",
   "execution_count": 4,
   "id": "d140d1f5-c642-46ab-8555-58b3678d3dfd",
   "metadata": {},
   "outputs": [
    {
     "name": "stdout",
     "output_type": "stream",
     "text": [
      "[9, 8, 4, 6, 10, 11, 20, 19, 18, 17]\n",
      "[9, 8, 4, 6, 10]\n",
      "[9, 8]\n",
      "[9]\n",
      "[8]\n",
      "[4, 6, 10]\n",
      "[4]\n",
      "[6, 10]\n",
      "[6]\n",
      "[10]\n",
      "[11, 20, 19, 18, 17]\n",
      "[11, 20]\n",
      "[11]\n",
      "[20]\n",
      "[19, 18, 17]\n",
      "[19]\n",
      "[18, 17]\n",
      "[18]\n",
      "[17]\n"
     ]
    },
    {
     "data": {
      "text/plain": [
       "[4, 6, 8, 9, 10, 11, 17, 18, 19, 20]"
      ]
     },
     "execution_count": 4,
     "metadata": {},
     "output_type": "execute_result"
    }
   ],
   "source": [
    "mergesort(A)"
   ]
  },
  {
   "cell_type": "markdown",
   "id": "b6ee0de4-a85b-421b-9a1e-24af6341af32",
   "metadata": {},
   "source": [
    "**4. Ordenamiento Counting Sort**"
   ]
  },
  {
   "cell_type": "markdown",
   "id": "091a5de4",
   "metadata": {},
   "source": [
    "La ide es iterar sobre la coleccion y construir un mapa, almacenar informacion sobre el numero total de veces que ocurre cada clave dentro de la coleccion de entrada. Luego recorrer la coleccion nuevamente y luego usar esos conteos para determinar las posiciones finales de cada valor clave en la coleccion. Esto aprovecha el hecho de que un mapa se ordena segun el orden natural de las claves"
   ]
  },
  {
   "cell_type": "code",
   "execution_count": 21,
   "id": "aed2a7ae",
   "metadata": {},
   "outputs": [],
   "source": [
    "# la funcion setdefault me permite obtener o recuperar los valores del diccionario\n",
    "# SI NO ESTA DECLARADO LE PUEDO ASIGNAR UN VALOR\n",
    "\n",
    "def countSort(lista):\n",
    "    freq ={}\n",
    "    for i in nums:\n",
    "        freq[i]=freq.setdefault(i,0)+1\n",
    "    i=0\n",
    "    for key,value in sorted(freq.items()):\n",
    "        print(key,value)\n",
    "        while value>0:\n",
    "            nums[i]=key\n",
    "            value=value-1\n",
    "            i=i+1\n",
    "    return nums\n",
    "# LA VENTAJA DE ESTE CODIGO ES QUE EL DICTIONARIO Y EL METODO FOR TE\n",
    "# PERMITEN ALMACENAR EL DICTIONARIO Y HACER USOD DE LA FUNCTION SORTED"
   ]
  },
  {
   "cell_type": "code",
   "execution_count": 22,
   "id": "f55a452c",
   "metadata": {},
   "outputs": [
    {
     "name": "stdout",
     "output_type": "stream",
     "text": [
      "1 3\n",
      "2 2\n",
      "4 3\n",
      "10 1\n"
     ]
    }
   ],
   "source": [
    "nums = [4, 2, 1, 4, 1, 4, 2, 1, 10]\n",
    "sort_= countSort(nums)"
   ]
  },
  {
   "cell_type": "code",
   "execution_count": 24,
   "id": "e884adce",
   "metadata": {},
   "outputs": [
    {
     "data": {
      "text/plain": [
       "[1, 1, 1, 2, 2, 4, 4, 4, 10]"
      ]
     },
     "execution_count": 24,
     "metadata": {},
     "output_type": "execute_result"
    }
   ],
   "source": [
    "sort_"
   ]
  },
  {
   "cell_type": "code",
   "execution_count": 32,
   "id": "3c487741",
   "metadata": {},
   "outputs": [
    {
     "data": {
      "text/plain": [
       "[1, 2, 2, 3, 3, 4, 8]"
      ]
     },
     "execution_count": 32,
     "metadata": {},
     "output_type": "execute_result"
    }
   ],
   "source": [
    "# SIN LA AYUDA DE DICCIONARIO Y UTILIZANDO 2 LISTAS\n",
    "def countSort_OS(array):\n",
    "    size   = len(array)\n",
    "    output = [0]*size\n",
    "    count  = [0]*10\n",
    "    for i in range(0,size):\n",
    "        count[array[i]]+=1\n",
    "    for i in range(1,10):\n",
    "        count[i]+= count[i-1]\n",
    "    i=size-1\n",
    "    while i>=0:\n",
    "        output[count[array[i]]-1]=array[i]\n",
    "        count[array[i]]-=1\n",
    "        i-=1\n",
    "    return output\n",
    "    print(count)\n",
    "array=[4,2,2,8,3,3,1]\n",
    "countSort_OS(array)    "
   ]
  },
  {
   "cell_type": "markdown",
   "id": "036e1125",
   "metadata": {},
   "source": [
    "# HEAP SORT - ORDENAMIENTO MONTICULO"
   ]
  },
  {
   "cell_type": "markdown",
   "id": "f9db4fe2",
   "metadata": {},
   "source": [
    "A heap in Python is a data structure based on a unique binary tree designed to efficiently access the smallest or largest element in a collection of items. It follows a complete binary tree's property and satisfies the heap property. Therefore, it is also known as a binary heap."
   ]
  },
  {
   "cell_type": "markdown",
   "id": "bb0807c0",
   "metadata": {},
   "source": [
    "As we all know, the complete binary tree is a tree with every level filled and all the nodes are as far left as possible. In the binary tree, it is possible that the last level is empty and not filled. Now, you must be wondering what is the heap property."
   ]
  },
  {
   "cell_type": "markdown",
   "id": "5199e21a",
   "metadata": {},
   "source": [
    "In the heap data structure, we assign key-value or weight to every node of the tree. Now, the root node key value is compared with the children’s nodes and then the tree is arranged accordingly into two categories i.e., max-heap and min-heap."
   ]
  },
  {
   "cell_type": "markdown",
   "id": "6620f2ca",
   "metadata": {},
   "source": [
    "The heap data structure is basically used as a heapsort algorithm to sort the elements in an array or a list. These algorithms can be used in priority queues, order statistics, Prim's algorithm or Dijkstra's algorithm, etc."
   ]
  },
  {
   "cell_type": "markdown",
   "id": "abd01a9e",
   "metadata": {},
   "source": [
    "¿Cuál es el uso de un montón?\n",
    "Python usa la estructura de datos del montón, ya que es un método altamente eficiente para almacenar una colección de elementos ordenados. Es útil para realizar un seguimiento de los elementos más grandes y más pequeños de una colección, que es una tarea común en muchos algoritmos y estructuras de datos. Las colas de prioridad, que se usan comúnmente en la programación de tareas y el enrutamiento de red, también se implementan mediante el almacenamiento dinámico."
   ]
  },
  {
   "cell_type": "markdown",
   "id": "833647e2",
   "metadata": {},
   "source": [
    "What is Heapify?\n",
    "The process of creating a heap data structure using the binary tree is called Heapify. The heapify process is used to create the Max-Heap or the Min-Heap. Let us study the Heapify using an example below:"
   ]
  },
  {
   "cell_type": "markdown",
   "id": "317e81ae",
   "metadata": {},
   "source": [
    "**Now we will set the current element “k” as “largest” and as we know the index of a left child is given by “2k + 1” and the right child is given by “2k + 2”.**\n",
    "\n",
    "Therefore, if the left child is larger than the current element i.e. kth index we will set the “largest” with the left child’s index, and if the right child is larger than the current element i.e., kth index then we will set the “largest” with right child’s index.\n",
    "\n",
    "**Lastly, we will swap the “largest” element with the current element(kth element).**"
   ]
  },
  {
   "cell_type": "code",
   "execution_count": 99,
   "id": "90471178",
   "metadata": {},
   "outputs": [],
   "source": [
    "def max_heapify(A,N,k):\n",
    "    l=2*k+1\n",
    "    r=2*k+2\n",
    "    largest=k\n",
    "    if l<N and A[l]>A[largest]:\n",
    "        largest=l\n",
    "    if r<N and A[r]>A[largest]:\n",
    "        largest=r\n",
    "    if largest !=k:\n",
    "        arr[k],arr[largest]=arr[largest],arr[k]#\n",
    "        max_heapify(A,N,largest)            "
   ]
  },
  {
   "cell_type": "code",
   "execution_count": 102,
   "id": "c6a1f3b7",
   "metadata": {},
   "outputs": [],
   "source": [
    "def heapSort(arr):\n",
    "    N=len(arr)\n",
    "    for i in range(N//2-1 ,-1,-1):\n",
    "        max_heapify(arr,N,i)\n",
    "    for i in range(N-1,0,-1):\n",
    "        arr[i],arr[0]= arr[0],arr[i]#swap saco siempre el mayor y disminuyo el array\n",
    "        max_heapify(arr,i,0)\n",
    "    print(arr)"
   ]
  },
  {
   "cell_type": "code",
   "execution_count": 103,
   "id": "a34e366c",
   "metadata": {},
   "outputs": [],
   "source": [
    "arr = [12, 11, 13, 5, 6, 7]\n"
   ]
  },
  {
   "cell_type": "code",
   "execution_count": 104,
   "id": "18d4b9ea",
   "metadata": {},
   "outputs": [
    {
     "name": "stdout",
     "output_type": "stream",
     "text": [
      "[5, 6, 7, 11, 12, 13]\n"
     ]
    }
   ],
   "source": [
    "heapSort(arr)"
   ]
  },
  {
   "cell_type": "markdown",
   "id": "51962e95",
   "metadata": {},
   "source": [
    "# QUICK SORT-  ORDENAMIENTO RAPIDO"
   ]
  },
  {
   "cell_type": "code",
   "execution_count": null,
   "id": "f33eb705",
   "metadata": {},
   "outputs": [],
   "source": []
  }
 ],
 "metadata": {
  "kernelspec": {
   "display_name": "Python 3 (ipykernel)",
   "language": "python",
   "name": "python3"
  },
  "language_info": {
   "codemirror_mode": {
    "name": "ipython",
    "version": 3
   },
   "file_extension": ".py",
   "mimetype": "text/x-python",
   "name": "python",
   "nbconvert_exporter": "python",
   "pygments_lexer": "ipython3",
   "version": "3.11.3"
  }
 },
 "nbformat": 4,
 "nbformat_minor": 5
}
