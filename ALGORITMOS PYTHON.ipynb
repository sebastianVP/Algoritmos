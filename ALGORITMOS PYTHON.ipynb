{
 "cells": [
  {
   "cell_type": "markdown",
   "id": "7ed22f74",
   "metadata": {},
   "source": [
    "# ALGORITMOS\n",
    "\n",
    "* **Developer**: Alexander Valdez Portocarrero\n",
    "* Ingeniero Electronico - **UNI**\n",
    "\n",
    "***\n"
   ]
  },
  {
   "cell_type": "markdown",
   "id": "6619e3c5",
   "metadata": {},
   "source": [
    "**PSEUDOCODIGO**: Es la forma de escribir los pasos que va a realizar un programa(Instruccion) de la forma mas cercana al lenguaje de programacion que vamos a utilizar posteriomente."
   ]
  },
  {
   "cell_type": "markdown",
   "id": "b765bff7",
   "metadata": {},
   "source": [
    "## I) ALGORITMOS DE ORDENAMIENTO- SORTING"
   ]
  },
  {
   "cell_type": "markdown",
   "id": "f70e2838",
   "metadata": {},
   "source": [
    "### 1. Insertion Sort"
   ]
  },
  {
   "cell_type": "markdown",
   "id": "6d470e51",
   "metadata": {},
   "source": [
    "Consiste en el recorrido por la lista seleccionando en cada iteracion un valor como clave y compararlo con el resto insertandolo en el lugar correspondiente."
   ]
  },
  {
   "cell_type": "markdown",
   "id": "fbeadf51",
   "metadata": {},
   "source": [
    "A = [1 2 3 ... n]\\\n",
    "**INSERTION-SORT(A)**\n",
    "\n",
    "\n",
    "for j<-2 to length[A] \n",
    "\n",
    "    do key<- A[j] \n",
    "     Inset A[j]into the sorted sequence A[1 .. j-1]\n",
    "     i<- j-1\n",
    "    while i>0 and A[i]>key\n",
    "        do A[i+1] <- A[i]\n",
    "            i <- i -1\n",
    "    A[i+1]<-key"
   ]
  },
  {
   "cell_type": "code",
   "execution_count": 18,
   "id": "863f978c",
   "metadata": {},
   "outputs": [
    {
     "name": "stdout",
     "output_type": "stream",
     "text": [
      "CASE 0\n",
      "CASE 1\n",
      "case: 1 5 7\n",
      "CASE 2\n",
      "case: 2 7 4\n",
      "case: 2 5 4\n",
      "CASE 3\n",
      "case: 3 7 3\n",
      "case: 3 5 3\n",
      "case: 3 4 3\n",
      "CASE 4\n",
      "case: 4 7 0\n",
      "case: 4 5 0\n",
      "case: 4 4 0\n",
      "case: 4 3 0\n",
      "CASE 5\n",
      "case: 5 7 9\n",
      "case: 5 5 7\n",
      "case: 5 4 5\n",
      "case: 5 3 4\n",
      "case: 5 0 3\n",
      "[0, 3, 4, 5, 7, 9]\n"
     ]
    }
   ],
   "source": [
    "A= [5,7,4,3,0,9]\n",
    "for i in range(len(A)):\n",
    "   print(\"CASE\",i)\n",
    "   for j in range(i,0,-1):\n",
    "      print(\"case:\",i,A[j-1],A[j])\n",
    "      if (A[j-1]>A[j]):\n",
    "          aux    = A[j]\n",
    "          A[j]   = A[j-1]\n",
    "          A[j-1] = aux\n",
    "print(A)"
   ]
  },
  {
   "cell_type": "markdown",
   "id": "94d5608b",
   "metadata": {},
   "source": [
    "**2. SELECTION SORT**"
   ]
  },
  {
   "cell_type": "markdown",
   "id": "e3fbc67e",
   "metadata": {},
   "source": [
    "El orden de seleccion es similar al orden de insercion con una ligera diferencia. Este algoritmo tambien divide la matriz en subpartes ordenadas y no ordenadas. Y luego, en cada iteracion, tomaremos el elemento minimos de la subparte sin clasificar y coloquelo en la ultima posicion del subparte ordenada.\n"
   ]
  },
  {
   "cell_type": "markdown",
   "id": "7bc0f7fb",
   "metadata": {},
   "source": [
    "Algoritmo\n",
    "\n",
    "**Step 1:** Set Min to location 0.\\\n",
    "**Step 2:** Search the minimum element in the list.\n",
    "**Step 3:** Swap with the value at location MIN.\n",
    "**Step 4:** Increment MIN to point to next element\n",
    "**Step 5:** Repeat ulti list is sorted"
   ]
  },
  {
   "cell_type": "code",
   "execution_count": 35,
   "id": "cfacfd36",
   "metadata": {},
   "outputs": [],
   "source": [
    "A = [9,8,4,6,7,1,2,0,5]"
   ]
  },
  {
   "cell_type": "markdown",
   "id": "55a0fca3",
   "metadata": {},
   "source": [
    "for j in range(1,length):\n",
    "    if A[0]>A[j]:\n",
    "        A[0], A[j]= A[j],A[0]\n",
    "    print(A)"
   ]
  },
  {
   "cell_type": "code",
   "execution_count": 36,
   "id": "23df0c7c",
   "metadata": {},
   "outputs": [
    {
     "data": {
      "text/plain": [
       "[9, 8, 4, 6, 7, 1, 2, 0, 5]"
      ]
     },
     "execution_count": 36,
     "metadata": {},
     "output_type": "execute_result"
    }
   ],
   "source": [
    "A"
   ]
  },
  {
   "cell_type": "markdown",
   "id": "a69eacd3",
   "metadata": {},
   "source": [
    "ALGORITMO"
   ]
  },
  {
   "cell_type": "code",
   "execution_count": 37,
   "id": "f6f7145f",
   "metadata": {},
   "outputs": [],
   "source": [
    "length = len(A)\n",
    "for i in range(length-1):\n",
    "    for j in range(i+1,length):\n",
    "        if A[i]>A[j]:\n",
    "            A[i], A[j]= A[j],A[i]\n",
    "    "
   ]
  },
  {
   "cell_type": "code",
   "execution_count": 38,
   "id": "2edd64e2",
   "metadata": {},
   "outputs": [
    {
     "data": {
      "text/plain": [
       "[0, 1, 2, 4, 5, 6, 7, 8, 9]"
      ]
     },
     "execution_count": 38,
     "metadata": {},
     "output_type": "execute_result"
    }
   ],
   "source": [
    "A\n"
   ]
  },
  {
   "cell_type": "markdown",
   "id": "83339930",
   "metadata": {},
   "source": [
    "## 3. MERGE SORTE ##"
   ]
  },
  {
   "cell_type": "markdown",
   "id": "5a320a4d",
   "metadata": {},
   "source": [
    "El algoritmo de ordenamiento por mezcla es un algoritmo de ordenamiento externo estable basado enla tecnica divide y venceras.\n",
    "La idea de los algoritmos de ordenacion por mezcla es dividir la matriz por la mitad una y ptra vez hasta que cada pieza tenga solo un elemento de longitud. Luego esos elementos se vuelven ajuntar(mezclados) en orden de clasificacion."
   ]
  },
  {
   "cell_type": "markdown",
   "id": "9f30e7fd",
   "metadata": {},
   "source": [
    "**funcion mergesort(m)**\n",
    "\n",
    "\n",
    "    var list left.right, result\n",
    "    if length(m)<=1\n",
    "        return m\n",
    "     else:\n",
    "        middle = length(m)/2\n",
    "        for each  x in m up to middle-1\n",
    "             add x to left\n",
    "        for each x in m from middle to m\n",
    "             add x to right\n",
    "         left= mergesort(left)\n",
    "         right=mergesort(right)\n",
    "         if last(left)<= first(right)\n",
    "             append right to left\n",
    "             return left\n",
    "          result= merge(left),right\n",
    "          return result"
   ]
  },
  {
   "cell_type": "markdown",
   "id": "8f63db02",
   "metadata": {},
   "source": [
    "**function merge(left,right)**\n",
    "\n",
    "    var list result\n",
    "    while length(left)>0 and length(right)>0\n",
    "          if first(left)<= first(right)\n",
    "              append first(left) to result\n",
    "              left    = rest(left)\n",
    "          else\n",
    "             append first(right) to result\n",
    "             right  = rest(right)\n",
    "    if length(left)>0\n",
    "       append rest(left) to result\n",
    "    if length(right)>0\n",
    "       append rest(right) to result\n",
    "    return result"
   ]
  },
  {
   "cell_type": "code",
   "execution_count": null,
   "id": "0c4b0db3",
   "metadata": {},
   "outputs": [],
   "source": []
  }
 ],
 "metadata": {
  "kernelspec": {
   "display_name": "Python 3 (ipykernel)",
   "language": "python",
   "name": "python3"
  },
  "language_info": {
   "codemirror_mode": {
    "name": "ipython",
    "version": 3
   },
   "file_extension": ".py",
   "mimetype": "text/x-python",
   "name": "python",
   "nbconvert_exporter": "python",
   "pygments_lexer": "ipython3",
   "version": "3.11.3"
  }
 },
 "nbformat": 4,
 "nbformat_minor": 5
}
